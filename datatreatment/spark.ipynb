{
 "cells": [
  {
   "cell_type": "code",
   "execution_count": 1,
   "metadata": {},
   "outputs": [
    {
     "name": "stdout",
     "output_type": "stream",
     "text": [
      "Requirement already satisfied: pyspark in c:\\users\\antoi\\appdata\\local\\programs\\python\\python312\\lib\\site-packages (3.5.1)\n",
      "Requirement already satisfied: py4j==0.10.9.7 in c:\\users\\antoi\\appdata\\local\\programs\\python\\python312\\lib\\site-packages (from pyspark) (0.10.9.7)\n",
      "Note: you may need to restart the kernel to use updated packages.\n"
     ]
    }
   ],
   "source": [
    "%pip install pyspark"
   ]
  },
  {
   "cell_type": "code",
   "execution_count": 2,
   "metadata": {},
   "outputs": [],
   "source": [
    "from pyspark.sql import SparkSession\n",
    "from pyspark.sql.functions import *\n",
    "import pandas as pd\n",
    "\n",
    "spark = SparkSession.builder.appName(\"SimpleApp\").getOrCreate()"
   ]
  },
  {
   "cell_type": "markdown",
   "metadata": {},
   "source": [
    "## **Lecture du fichier results.html**"
   ]
  },
  {
   "cell_type": "code",
   "execution_count": 3,
   "metadata": {},
   "outputs": [
    {
     "name": "stdout",
     "output_type": "stream",
     "text": [
      "+----------+----------------+-------------+------------+----------------+----------+--------------------+----------+-------------+--------------------+------------+---------------------+-----------+-----------------+----------+----------+\n",
      "|Unnamed: 0|discipline_title|  event_title|   slug_game|participant_type|medal_type|            athletes|rank_equal|rank_position|        country_name|country_code|country_3_letter_code|athlete_url|athlete_full_name|value_unit|value_type|\n",
      "+----------+----------------+-------------+------------+----------------+----------+--------------------+----------+-------------+--------------------+------------+---------------------+-----------+-----------------+----------+----------+\n",
      "|         0|         Curling|Mixed Doubles|beijing-2022|        GameTeam|      GOLD|[('Stefania CONST...|     False|            1|               Italy|          IT|                  ITA|       NULL|             NULL|      NULL|      NULL|\n",
      "|         1|         Curling|Mixed Doubles|beijing-2022|        GameTeam|    SILVER|[('Kristin SKASLI...|     False|            2|              Norway|          NO|                  NOR|       NULL|             NULL|      NULL|      NULL|\n",
      "|         2|         Curling|Mixed Doubles|beijing-2022|        GameTeam|    BRONZE|[('Almida DE VAL'...|     False|            3|              Sweden|          SE|                  SWE|       NULL|             NULL|      NULL|      NULL|\n",
      "|         3|         Curling|Mixed Doubles|beijing-2022|        GameTeam|      NULL|[('Jennifer DODDS...|     False|            4|       Great Britain|          GB|                  GBR|       NULL|             NULL|      NULL|      NULL|\n",
      "|         4|         Curling|Mixed Doubles|beijing-2022|        GameTeam|      NULL|[('Rachel HOMAN',...|     False|            5|              Canada|          CA|                  CAN|       NULL|             NULL|      NULL|      NULL|\n",
      "|         5|         Curling|Mixed Doubles|beijing-2022|        GameTeam|      NULL|[('Zuzana HAJKOVA...|     False|            6|      Czech Republic|          CZ|                  CZE|       NULL|             NULL|      NULL|      NULL|\n",
      "|         6|         Curling|Mixed Doubles|beijing-2022|        GameTeam|      NULL|[('Jenny PERRET',...|     False|            7|         Switzerland|          CH|                  SUI|       NULL|             NULL|      NULL|      NULL|\n",
      "|         7|         Curling|Mixed Doubles|beijing-2022|        GameTeam|      NULL|[('Vicky PERSINGE...|     False|            8|United States of ...|          US|                  USA|       NULL|             NULL|      NULL|      NULL|\n",
      "|         8|         Curling|Mixed Doubles|beijing-2022|        GameTeam|      NULL|[('Suyuan FAN', '...|     False|            9|People's Republic...|          CN|                  CHN|       NULL|             NULL|      NULL|      NULL|\n",
      "|         9|         Curling|Mixed Doubles|beijing-2022|        GameTeam|      NULL|[('Tahli GILL', '...|     False|           10|           Australia|          AU|                  AUS|       NULL|             NULL|      NULL|      NULL|\n",
      "|        10|         Curling|        Women|beijing-2022|        GameTeam|      GOLD|                NULL|     False|            1|       Great Britain|          GB|                  GBR|       NULL|             NULL|      NULL|      NULL|\n",
      "|        11|         Curling|        Women|beijing-2022|        GameTeam|    SILVER|                NULL|     False|            2|               Japan|          JP|                  JPN|       NULL|             NULL|      NULL|      NULL|\n",
      "|        12|         Curling|        Women|beijing-2022|        GameTeam|    BRONZE|                NULL|     False|            3|              Sweden|          SE|                  SWE|       NULL|             NULL|      NULL|      NULL|\n",
      "|        13|         Curling|        Women|beijing-2022|        GameTeam|      NULL|                NULL|     False|            4|         Switzerland|          CH|                  SUI|       NULL|             NULL|      NULL|      NULL|\n",
      "|        14|         Curling|        Women|beijing-2022|        GameTeam|      NULL|                NULL|     False|            5|              Canada|          CA|                  CAN|       NULL|             NULL|      NULL|      NULL|\n",
      "|        15|         Curling|        Women|beijing-2022|        GameTeam|      NULL|                NULL|     False|            6|United States of ...|          US|                  USA|       NULL|             NULL|      NULL|      NULL|\n",
      "|        16|         Curling|        Women|beijing-2022|        GameTeam|      NULL|                NULL|     False|            7|People's Republic...|          CN|                  CHN|       NULL|             NULL|      NULL|      NULL|\n",
      "|        17|         Curling|        Women|beijing-2022|        GameTeam|      NULL|                NULL|     False|            8|   Republic of Korea|          KR|                  KOR|       NULL|             NULL|      NULL|      NULL|\n",
      "|        18|         Curling|        Women|beijing-2022|        GameTeam|      NULL|                NULL|     False|            9|             Denmark|          DK|                  DEN|       NULL|             NULL|      NULL|      NULL|\n",
      "|        19|         Curling|        Women|beijing-2022|        GameTeam|      NULL|                NULL|     False|           10|                 ROC|         ROC|                  ROC|       NULL|             NULL|      NULL|      NULL|\n",
      "+----------+----------------+-------------+------------+----------------+----------+--------------------+----------+-------------+--------------------+------------+---------------------+-----------+-----------------+----------+----------+\n",
      "only showing top 20 rows\n",
      "\n"
     ]
    }
   ],
   "source": [
    "results = pd.read_html(\"./data/olympic_results.html\", encoding='utf-8') # Read with pandas because it's easier to read html with pandas\n",
    "\n",
    "results = results[0] \n",
    "\n",
    "results.to_csv('./data/olympic_results.csv', encoding='utf-8-sig', index=False) # We save it as csv bezcause of a compatibility issue with spark we can't read another format than csv\n",
    "\n",
    "results = spark.read.csv(\"./data/olympic_results.csv\",inferSchema=True, sep=\",\", header=True) # Read with spark\n",
    "\n",
    "results.show() \n"
   ]
  },
  {
   "cell_type": "code",
   "execution_count": 4,
   "metadata": {},
   "outputs": [
    {
     "name": "stdout",
     "output_type": "stream",
     "text": [
      "+----------+----------------+--------------------------+------------+----------+----------------------------------------------------------------------------------------------------------------------------------------------------------+-------------+--------------------------+------------+---------------------+\n",
      "|Unnamed: 0|discipline_title|event_title               |slug_game   |medal_type|athletes                                                                                                                                                  |rank_position|country_name              |country_code|country_3_letter_code|\n",
      "+----------+----------------+--------------------------+------------+----------+----------------------------------------------------------------------------------------------------------------------------------------------------------+-------------+--------------------------+------------+---------------------+\n",
      "|0         |Curling         |Mixed Doubles             |beijing-2022|GOLD      |[('Stefania CONSTANTINI', 'https://olympics.com/en/athletes/stefania-constantini'), ('Amos MOSANER', 'https://olympics.com/en/athletes/amos-mosaner')]    |1            |Italy                     |IT          |ITA                  |\n",
      "|1         |Curling         |Mixed Doubles             |beijing-2022|SILVER    |[('Kristin SKASLIEN', 'https://olympics.com/en/athletes/kristin-skaslien'), ('Magnus NEDREGOTTEN', 'https://olympics.com/en/athletes/magnus-nedregotten')]|2            |Norway                    |NO          |NOR                  |\n",
      "|2         |Curling         |Mixed Doubles             |beijing-2022|BRONZE    |[('Almida DE VAL', 'https://olympics.com/en/athletes/almida-de-val'), ('Oskar ERIKSSON', 'https://olympics.com/en/athletes/oskar-eriksson')]              |3            |Sweden                    |SE          |SWE                  |\n",
      "|3         |Curling         |Mixed Doubles             |beijing-2022|NULL      |[('Jennifer DODDS', 'https://olympics.com/en/athletes/jennifer-dodds'), ('Bruce MOUAT', 'https://olympics.com/en/athletes/bruce-mouat')]                  |4            |Great Britain             |GB          |GBR                  |\n",
      "|4         |Curling         |Mixed Doubles             |beijing-2022|NULL      |[('Rachel HOMAN', 'https://olympics.com/en/athletes/rachel-homan'), ('John MORRIS', 'https://olympics.com/en/athletes/john-morris')]                      |5            |Canada                    |CA          |CAN                  |\n",
      "|5         |Curling         |Mixed Doubles             |beijing-2022|NULL      |[('Zuzana HAJKOVA', 'https://olympics.com/en/athletes/zuzana-hajkova-1'), ('Tomas PAUL', 'https://olympics.com/en/athletes/tomas-paul')]                  |6            |Czech Republic            |CZ          |CZE                  |\n",
      "|6         |Curling         |Mixed Doubles             |beijing-2022|NULL      |[('Jenny PERRET', 'https://olympics.com/en/athletes/perret'), ('Martin RIOS', 'https://olympics.com/en/athletes/rios')]                                   |7            |Switzerland               |CH          |SUI                  |\n",
      "|7         |Curling         |Mixed Doubles             |beijing-2022|NULL      |[('Vicky PERSINGER', 'https://olympics.com/en/athletes/vicky-persinger'), ('Christopher PLYS', 'https://olympics.com/en/athletes/christopher-plys')]      |8            |United States of America  |US          |USA                  |\n",
      "|8         |Curling         |Mixed Doubles             |beijing-2022|NULL      |[('Suyuan FAN', 'https://olympics.com/en/athletes/suyuan-fan'), ('Zhi LING', 'https://olympics.com/en/athletes/zhi-ling')]                                |9            |People's Republic of China|CN          |CHN                  |\n",
      "|9         |Curling         |Mixed Doubles             |beijing-2022|NULL      |[('Tahli GILL', 'https://olympics.com/en/athletes/tahli-gill'), ('Dean HEWITT', 'https://olympics.com/en/athletes/dean-hewitt')]                          |10           |Australia                 |AU          |AUS                  |\n",
      "|611       |Snowboard       |Mixed Team Snowboard Cross|beijing-2022|GOLD      |[('Nick BAUMGARTNER', 'https://olympics.com/en/athletes/nick-baumgartner'), ('Lindsey JACOBELLIS', 'https://olympics.com/en/athletes/lindsey-jacobellis')]|1            |United States of America  |US          |USA                  |\n",
      "|612       |Snowboard       |Mixed Team Snowboard Cross|beijing-2022|SILVER    |[('Omar VISINTIN', 'https://olympics.com/en/athletes/omar-visintin'), ('Michela MOIOLI', 'https://olympics.com/en/athletes/michela-moioli')]              |2            |Italy                     |IT          |ITA                  |\n",
      "|613       |Snowboard       |Mixed Team Snowboard Cross|beijing-2022|BRONZE    |[('Eliot GRONDIN', 'https://olympics.com/en/athletes/eliot-grondin'), ('Meryeta ODINE', 'https://olympics.com/en/athletes/meryeta-odine')]                |3            |Canada                    |CA          |CAN                  |\n",
      "|614       |Snowboard       |Mixed Team Snowboard Cross|beijing-2022|NULL      |[('Lorenzo SOMMARIVA', 'https://olympics.com/en/athletes/lorenzo-sommariva'), ('Caterina CARPANO', 'https://olympics.com/en/athletes/caterina-carpano')]  |4            |Italy                     |IT          |ITA                  |\n",
      "|615       |Snowboard       |Mixed Team Snowboard Cross|beijing-2022|NULL      |[('Martin NOERL', 'https://olympics.com/en/athletes/martin-noerl'), ('Jana FISCHER', 'https://olympics.com/en/athletes/jana-fischer')]                    |5            |Germany                   |DE          |GER                  |\n",
      "|616       |Snowboard       |Mixed Team Snowboard Cross|beijing-2022|NULL      |[('Huw NIGHTINGALE', 'https://olympics.com/en/athletes/huw-nightingale'), ('Charlotte BANKES', 'https://olympics.com/en/athletes/charlotte-bankes')]      |6            |Great Britain             |GB          |GBR                  |\n",
      "|617       |Snowboard       |Mixed Team Snowboard Cross|beijing-2022|NULL      |[('Kalle KOBLET', 'https://olympics.com/en/athletes/kalle-koblet'), ('Sophie HEDIGER', 'https://olympics.com/en/athletes/sophie-hediger')]                |7            |Switzerland               |CH          |SUI                  |\n",
      "|618       |Snowboard       |Mixed Team Snowboard Cross|beijing-2022|NULL      |[('Daniil DONSKIKH', 'https://olympics.com/en/athletes/daniil-donskikh'), ('Kristina PAUL', 'https://olympics.com/en/athletes/kristina-paul-1')]          |8            |ROC                       |ROC         |ROC                  |\n",
      "|619       |Snowboard       |Mixed Team Snowboard Cross|beijing-2022|NULL      |[('Cameron BOLTON', 'https://olympics.com/en/athletes/cameron-bolton'), ('Belle BROCKHOFF', 'https://olympics.com/en/athletes/belle-brockhoff')]          |9            |Australia                 |AU          |AUS                  |\n",
      "|620       |Snowboard       |Mixed Team Snowboard Cross|beijing-2022|NULL      |[('Liam MOFFATT', 'https://olympics.com/en/athletes/liam-moffatt'), ('Tess CRITCHLOW', 'https://olympics.com/en/athletes/tess-critchlow')]                |9            |Canada                    |CA          |CAN                  |\n",
      "+----------+----------------+--------------------------+------------+----------+----------------------------------------------------------------------------------------------------------------------------------------------------------+-------------+--------------------------+------------+---------------------+\n",
      "only showing top 20 rows\n",
      "\n"
     ]
    }
   ],
   "source": [
    "results = results.filter(results.athletes != \"NULL\")\n",
    "\n",
    "# We drop the columns that are not useful\n",
    "results = results.drop(\"athlete_full_name\")\n",
    "results = results.drop(\"athlete_url\")\n",
    "results = results.drop(\"value_unit\")\n",
    "results = results.drop(\"value_type\")\n",
    "results = results.drop(\"rank_equal\")\n",
    "results = results.drop(\"participant_type\")\n",
    "\n",
    "results.show(truncate=False)"
   ]
  },
  {
   "cell_type": "code",
   "execution_count": 5,
   "metadata": {},
   "outputs": [
    {
     "name": "stdout",
     "output_type": "stream",
     "text": [
      "('Natálie TASCHLEROVÁ', 'Czech Republic')\n",
      "('Filip TASCHLER', 'Czech Republic')\n"
     ]
    }
   ],
   "source": [
    "import re\n",
    "\n",
    "# We set a list of all the athletes and their countries\n",
    "\n",
    "listOfAthletes = results.select(\"athletes\", \"country_name\" ).distinct().collect()\n",
    "\n",
    "listOfAthletes = [row.asDict() for row in listOfAthletes]\n",
    "\n",
    "result = []\n",
    "\n",
    "for entry in listOfAthletes:\n",
    "    country = entry['country_name']\n",
    "    athletes_string = entry['athletes']\n",
    "    athletes = re.findall(r\"'([^']*)'\", athletes_string)\n",
    "    for athlete in athletes:\n",
    "        result.append((athlete, country))\n",
    "\n",
    "filtered_data = []\n",
    "\n",
    "# We filter the data to keep only the athletes and not the bio information\n",
    "\n",
    "for item in result:\n",
    "    if \"https://\" not in item[0]:\n",
    "        if item[0] not in [x[0] for x in filtered_data]:\n",
    "            filtered_data.append(item)\n",
    "            if \"TASCHL\" in item[0]: # Test for bad caracter\n",
    "                print(item)\n",
    "\n"
   ]
  },
  {
   "cell_type": "markdown",
   "metadata": {},
   "source": [
    "## **Lecture du fichier medals.xlsx**"
   ]
  },
  {
   "cell_type": "code",
   "execution_count": 6,
   "metadata": {},
   "outputs": [
    {
     "name": "stdout",
     "output_type": "stream",
     "text": [
      "+---+----------------+------------+--------------------+------------+----------+----------------+-----------------+--------------------+--------------------+--------------------+------------+---------------------+\n",
      "|_c0|discipline_title|   slug_game|         event_title|event_gender|medal_type|participant_type|participant_title|         athlete_url|   athlete_full_name|        country_name|country_code|country_3_letter_code|\n",
      "+---+----------------+------------+--------------------+------------+----------+----------------+-----------------+--------------------+--------------------+--------------------+------------+---------------------+\n",
      "|  0|         Curling|beijing-2022|       Mixed Doubles|       Mixed|      GOLD|        GameTeam|            Italy|https://olympics....|Stefania CONSTANTINI|               Italy|          IT|                  ITA|\n",
      "|  1|         Curling|beijing-2022|       Mixed Doubles|       Mixed|      GOLD|        GameTeam|            Italy|https://olympics....|        Amos MOSANER|               Italy|          IT|                  ITA|\n",
      "|  2|         Curling|beijing-2022|       Mixed Doubles|       Mixed|    SILVER|        GameTeam|           Norway|https://olympics....|    Kristin SKASLIEN|              Norway|          NO|                  NOR|\n",
      "|  3|         Curling|beijing-2022|       Mixed Doubles|       Mixed|    SILVER|        GameTeam|           Norway|https://olympics....|  Magnus NEDREGOTTEN|              Norway|          NO|                  NOR|\n",
      "|  4|         Curling|beijing-2022|       Mixed Doubles|       Mixed|    BRONZE|        GameTeam|           Sweden|https://olympics....|       Almida DE VAL|              Sweden|          SE|                  SWE|\n",
      "|  5|         Curling|beijing-2022|       Mixed Doubles|       Mixed|    BRONZE|        GameTeam|           Sweden|https://olympics....|      Oskar ERIKSSON|              Sweden|          SE|                  SWE|\n",
      "|  6|         Curling|beijing-2022|               Women|       Women|      GOLD|        GameTeam|    Great Britain|                NULL|                NULL|       Great Britain|          GB|                  GBR|\n",
      "|  7|         Curling|beijing-2022|               Women|       Women|    SILVER|        GameTeam|            Japan|                NULL|                NULL|               Japan|          JP|                  JPN|\n",
      "|  8|         Curling|beijing-2022|               Women|       Women|    BRONZE|        GameTeam|           Sweden|                NULL|                NULL|              Sweden|          SE|                  SWE|\n",
      "|  9|         Curling|beijing-2022|                 Men|         Men|      GOLD|        GameTeam|           Sweden|                NULL|                NULL|              Sweden|          SE|                  SWE|\n",
      "| 10|         Curling|beijing-2022|                 Men|         Men|    SILVER|        GameTeam|    Great Britain|                NULL|                NULL|       Great Britain|          GB|                  GBR|\n",
      "| 11|         Curling|beijing-2022|                 Men|         Men|    BRONZE|        GameTeam|           Canada|                NULL|                NULL|              Canada|          CA|                  CAN|\n",
      "| 12|Freestyle Skiing|beijing-2022|        Men's Moguls|         Men|    SILVER|         Athlete|             NULL|https://olympics....|    Mikael KINGSBURY|              Canada|          CA|                  CAN|\n",
      "| 13|Freestyle Skiing|beijing-2022|        Men's Moguls|         Men|      GOLD|         Athlete|             NULL|https://olympics....|     Walter WALLBERG|              Sweden|          SE|                  SWE|\n",
      "| 14|Freestyle Skiing|beijing-2022|        Men's Moguls|         Men|    BRONZE|         Athlete|             NULL|https://olympics....|     Ikuma HORISHIMA|               Japan|          JP|                  JPN|\n",
      "| 15|Freestyle Skiing|beijing-2022|Men's Freeski Hal...|         Men|      GOLD|         Athlete|             NULL|https://olympics....|       Nico PORTEOUS|         New Zealand|          NZ|                  NZL|\n",
      "| 16|Freestyle Skiing|beijing-2022|Men's Freeski Hal...|         Men|    SILVER|         Athlete|             NULL|https://olympics....|          David WISE|United States of ...|          US|                  USA|\n",
      "| 17|Freestyle Skiing|beijing-2022|Men's Freeski Hal...|         Men|    BRONZE|         Athlete|             NULL|https://olympics....|       Alex FERREIRA|United States of ...|          US|                  USA|\n",
      "| 18|Freestyle Skiing|beijing-2022|Men's Freeski Big...|         Men|    BRONZE|         Athlete|             NULL|https://olympics....|      Henrik HARLAUT|              Sweden|          SE|                  SWE|\n",
      "| 19|Freestyle Skiing|beijing-2022|Men's Freeski Big...|         Men|      GOLD|         Athlete|             NULL|https://olympics....|           Birk RUUD|              Norway|          NO|                  NOR|\n",
      "+---+----------------+------------+--------------------+------------+----------+----------------+-----------------+--------------------+--------------------+--------------------+------------+---------------------+\n",
      "only showing top 20 rows\n",
      "\n"
     ]
    }
   ],
   "source": [
    "medals = spark.read.csv(\"./data/olympic_medals.csv\",inferSchema=True, sep=\";\", header=True)\n",
    "medals.show()"
   ]
  },
  {
   "cell_type": "code",
   "execution_count": 7,
   "metadata": {},
   "outputs": [
    {
     "name": "stdout",
     "output_type": "stream",
     "text": [
      "+--------------------+------------+----------+\n",
      "|        country_name|country_code|country_id|\n",
      "+--------------------+------------+----------+\n",
      "|              Sweden|          SE|         1|\n",
      "|           Indonesia|          ID|         2|\n",
      "|United Arab Emirates|          AE|         3|\n",
      "|          Azerbaijan|          AZ|         4|\n",
      "|            Slovenia|          SI|         5|\n",
      "|                Iraq|          IQ|         6|\n",
      "|           Australia|          AU|         7|\n",
      "|            Pakistan|          PK|         8|\n",
      "|             Hungary|          HU|         9|\n",
      "|          Montenegro|          ME|        10|\n",
      "|              Israel|          IL|        11|\n",
      "|United Republic o...|          TZ|        12|\n",
      "|      Czechoslovakia|        CSHH|        13|\n",
      "|              Poland|          PL|        14|\n",
      "|          Tajikistan|          TJ|        15|\n",
      "|               Gabon|          GA|        16|\n",
      "|             Vietnam|          VN|        17|\n",
      "|              Norway|          NO|        18|\n",
      "|People's Republic...|          CN|        19|\n",
      "|   Republic of Korea|          KR|        20|\n",
      "+--------------------+------------+----------+\n",
      "only showing top 20 rows\n",
      "\n"
     ]
    }
   ],
   "source": [
    "from pyspark.sql.functions import monotonically_increasing_id \n",
    "\n",
    "\n",
    "dfcountry = medals.select(\"country_name\", \"country_code\").distinct()\n",
    "dfcountry = dfcountry.select(\"*\").withColumn(\"country_id\", monotonically_increasing_id() + 1) # We add a temporary id to join the data and matching the case where the data were in a db\n",
    "dfcountry.show()"
   ]
  },
  {
   "cell_type": "code",
   "execution_count": 8,
   "metadata": {},
   "outputs": [
    {
     "name": "stdout",
     "output_type": "stream",
     "text": [
      "+---+----------------+------------+--------------------+------------+----------+----------------+-----------------+--------------------+--------------------+------------+---------------------+\n",
      "|_c0|discipline_title|   slug_game|         event_title|event_gender|medal_type|participant_type|participant_title|   athlete_full_name|        country_name|country_code|country_3_letter_code|\n",
      "+---+----------------+------------+--------------------+------------+----------+----------------+-----------------+--------------------+--------------------+------------+---------------------+\n",
      "|  0|         Curling|beijing-2022|       Mixed Doubles|       Mixed|      GOLD|        GameTeam|            Italy|Stefania CONSTANTINI|               Italy|          IT|                  ITA|\n",
      "|  1|         Curling|beijing-2022|       Mixed Doubles|       Mixed|      GOLD|        GameTeam|            Italy|        Amos MOSANER|               Italy|          IT|                  ITA|\n",
      "|  2|         Curling|beijing-2022|       Mixed Doubles|       Mixed|    SILVER|        GameTeam|           Norway|    Kristin SKASLIEN|              Norway|          NO|                  NOR|\n",
      "|  3|         Curling|beijing-2022|       Mixed Doubles|       Mixed|    SILVER|        GameTeam|           Norway|  Magnus NEDREGOTTEN|              Norway|          NO|                  NOR|\n",
      "|  4|         Curling|beijing-2022|       Mixed Doubles|       Mixed|    BRONZE|        GameTeam|           Sweden|       Almida DE VAL|              Sweden|          SE|                  SWE|\n",
      "|  5|         Curling|beijing-2022|       Mixed Doubles|       Mixed|    BRONZE|        GameTeam|           Sweden|      Oskar ERIKSSON|              Sweden|          SE|                  SWE|\n",
      "|  6|         Curling|beijing-2022|               Women|       Women|      GOLD|        GameTeam|    Great Britain|                NULL|       Great Britain|          GB|                  GBR|\n",
      "|  7|         Curling|beijing-2022|               Women|       Women|    SILVER|        GameTeam|            Japan|                NULL|               Japan|          JP|                  JPN|\n",
      "|  8|         Curling|beijing-2022|               Women|       Women|    BRONZE|        GameTeam|           Sweden|                NULL|              Sweden|          SE|                  SWE|\n",
      "|  9|         Curling|beijing-2022|                 Men|         Men|      GOLD|        GameTeam|           Sweden|                NULL|              Sweden|          SE|                  SWE|\n",
      "| 10|         Curling|beijing-2022|                 Men|         Men|    SILVER|        GameTeam|    Great Britain|                NULL|       Great Britain|          GB|                  GBR|\n",
      "| 11|         Curling|beijing-2022|                 Men|         Men|    BRONZE|        GameTeam|           Canada|                NULL|              Canada|          CA|                  CAN|\n",
      "| 12|Freestyle Skiing|beijing-2022|        Men's Moguls|         Men|    SILVER|         Athlete|             NULL|    Mikael KINGSBURY|              Canada|          CA|                  CAN|\n",
      "| 13|Freestyle Skiing|beijing-2022|        Men's Moguls|         Men|      GOLD|         Athlete|             NULL|     Walter WALLBERG|              Sweden|          SE|                  SWE|\n",
      "| 14|Freestyle Skiing|beijing-2022|        Men's Moguls|         Men|    BRONZE|         Athlete|             NULL|     Ikuma HORISHIMA|               Japan|          JP|                  JPN|\n",
      "| 15|Freestyle Skiing|beijing-2022|Men's Freeski Hal...|         Men|      GOLD|         Athlete|             NULL|       Nico PORTEOUS|         New Zealand|          NZ|                  NZL|\n",
      "| 16|Freestyle Skiing|beijing-2022|Men's Freeski Hal...|         Men|    SILVER|         Athlete|             NULL|          David WISE|United States of ...|          US|                  USA|\n",
      "| 17|Freestyle Skiing|beijing-2022|Men's Freeski Hal...|         Men|    BRONZE|         Athlete|             NULL|       Alex FERREIRA|United States of ...|          US|                  USA|\n",
      "| 18|Freestyle Skiing|beijing-2022|Men's Freeski Big...|         Men|    BRONZE|         Athlete|             NULL|      Henrik HARLAUT|              Sweden|          SE|                  SWE|\n",
      "| 19|Freestyle Skiing|beijing-2022|Men's Freeski Big...|         Men|      GOLD|         Athlete|             NULL|           Birk RUUD|              Norway|          NO|                  NOR|\n",
      "+---+----------------+------------+--------------------+------------+----------+----------------+-----------------+--------------------+--------------------+------------+---------------------+\n",
      "only showing top 20 rows\n",
      "\n"
     ]
    }
   ],
   "source": [
    "medals = medals.drop(\"bio\")\n",
    "medals = medals.drop(\"athlete_url\")\n",
    "medals = medals.drop(\"athlete_year_birth\")\n",
    "\n",
    "medals.show()"
   ]
  },
  {
   "cell_type": "markdown",
   "metadata": {},
   "source": [
    "## **Lecture du fichier hosts.xml**"
   ]
  },
  {
   "cell_type": "code",
   "execution_count": 9,
   "metadata": {},
   "outputs": [
    {
     "name": "stdout",
     "output_type": "stream",
     "text": [
      "+-----+--------------------+--------------------+-----------+---------+-------------------+-------------------+--------------------+------------+----------+\n",
      "|index|       game_location|           game_name|game_season|game_year|     start_date_str|       end_date_str|        country_name|country_code|country_id|\n",
      "+-----+--------------------+--------------------+-----------+---------+-------------------+-------------------+--------------------+------------+----------+\n",
      "|    0|               China|        Beijing 2022|     Winter|     2022|2022-02-04 16:00:00|2022-02-20 13:00:00|                NULL|        NULL|      NULL|\n",
      "|    1|               Japan|          Tokyo 2020|     Summer|     2020|2021-07-23 13:00:00|2021-08-08 16:00:00|               Japan|          JP|       122|\n",
      "|    2|   Republic of Korea|    PyeongChang 2018|     Winter|     2018|2018-02-09 00:00:00|2018-02-25 09:00:00|   Republic of Korea|          KR|        20|\n",
      "|    3|              Brazil|            Rio 2016|     Summer|     2016|2016-08-05 14:00:00|2016-08-21 23:00:00|              Brazil|          BR|        56|\n",
      "|    4|  Russian Federation|          Sochi 2014|     Winter|     2014|2014-02-07 05:00:00|2014-02-23 17:00:00|  Russian Federation|          RU|        27|\n",
      "|    5|       Great Britain|         London 2012|     Summer|     2012|2012-07-27 09:00:00|2012-08-12 21:00:00|       Great Britain|          GB|       131|\n",
      "|    6|              Canada|      Vancouver 2010|     Winter|     2010|2010-02-12 17:00:00|2010-02-28 05:00:00|              Canada|          CA|        81|\n",
      "|    7|               China|        Beijing 2008|     Summer|     2008|2008-08-08 02:00:00|2008-08-24 14:00:00|                NULL|        NULL|      NULL|\n",
      "|    8|               Italy|          Turin 2006|     Winter|     2006|2006-02-10 08:00:00|2006-02-26 20:00:00|               Italy|          IT|        90|\n",
      "|    9|              Greece|         Athens 2004|     Summer|     2004|2004-08-13 08:00:00|2004-08-29 20:00:00|              Greece|          GR|        84|\n",
      "|   10|       United States| Salt Lake City 2002|     Winter|     2002|2002-02-08 16:00:00|2002-02-24 09:00:00|                NULL|        NULL|      NULL|\n",
      "|   11|           Australia|         Sydney 2000|     Summer|     2000|2000-09-15 03:00:00|2000-10-01 11:00:00|           Australia|          AU|         7|\n",
      "|   12|               Japan|         Nagano 1998|     Winter|     1998|1998-02-07 00:00:00|1998-02-22 12:00:00|               Japan|          JP|       122|\n",
      "|   13|       United States|        Atlanta 1996|     Summer|     1996|1996-07-19 14:00:00|1996-08-05 23:00:00|                NULL|        NULL|      NULL|\n",
      "|   14|              Norway|    Lillehammer 1994|     Winter|     1994|1994-02-12 08:00:00|1994-02-27 20:00:00|              Norway|          NO|        18|\n",
      "|   15|               Spain|      Barcelona 1992|     Summer|     1992|1992-07-25 08:00:00|1992-08-09 20:00:00|               Spain|          ES|       127|\n",
      "|   16|              France|    Albertville 1992|     Winter|     1992|1992-02-08 08:00:00|1992-02-23 20:00:00|              France|          FR|        54|\n",
      "|   17|   Republic of Korea|          Seoul 1988|     Summer|     1988|1988-09-17 00:00:00|1988-10-02 11:00:00|   Republic of Korea|          KR|        20|\n",
      "|   18|              Canada|        Calgary 1988|     Winter|     1988|1988-02-13 16:00:00|1988-02-28 04:00:00|              Canada|          CA|        81|\n",
      "|   19|       United States|    Los Angeles 1984|     Summer|     1984|1984-07-28 17:00:00|1984-08-12 21:00:00|                NULL|        NULL|      NULL|\n",
      "|   20|          Yugoslavia|       Sarajevo 1984|     Winter|     1984|1984-02-08 08:00:00|1984-02-19 20:00:00|          Yugoslavia|        YUCS|       124|\n",
      "|   21|                USSR|         Moscow 1980|     Summer|     1980|1980-07-19 07:00:00|1980-08-03 20:00:00|                NULL|        NULL|      NULL|\n",
      "|   22|       United States|    Lake Placid 1980|     Winter|     1980|1980-02-13 14:00:00|1980-02-24 02:00:00|                NULL|        NULL|      NULL|\n",
      "|   23|              Canada|       Montreal 1976|     Summer|     1976|1976-07-17 14:00:00|1976-08-01 00:00:00|              Canada|          CA|        81|\n",
      "|   24|             Austria|      Innsbruck 1976|     Winter|     1976|1976-02-04 08:00:00|1976-02-15 20:00:00|             Austria|          AT|        94|\n",
      "|   25|Federal Republic ...|         Munich 1972|     Summer|     1972|1972-08-26 08:00:00|1972-09-11 20:00:00|Federal Republic ...|          DE|       137|\n",
      "|   26|               Japan|        Sapporo 1972|     Winter|     1972|1972-02-03 00:00:00|1972-02-13 12:00:00|               Japan|          JP|       122|\n",
      "|   27|              Mexico|    Mexico City 1968|     Summer|     1968|1968-10-12 17:00:00|1968-10-28 05:00:00|              Mexico|          MX|        85|\n",
      "|   28|              France|       Grenoble 1968|     Winter|     1968|1968-02-06 08:00:00|1968-02-18 20:00:00|              France|          FR|        54|\n",
      "|   29|               Japan|          Tokyo 1964|     Summer|     1964|1964-10-10 00:00:00|1964-10-24 12:00:00|               Japan|          JP|       122|\n",
      "|   30|             Austria|      Innsbruck 1964|     Winter|     1964|1964-01-29 08:00:00|1964-02-09 20:00:00|             Austria|          AT|        94|\n",
      "|   31|               Italy|           Rome 1960|     Summer|     1960|1960-08-25 08:00:00|1960-09-11 20:00:00|               Italy|          IT|        90|\n",
      "|   32|       United States|   Squaw Valley 1960|     Winter|     1960|1960-02-18 17:00:00|1960-02-28 05:00:00|                NULL|        NULL|      NULL|\n",
      "|   33|   Australia, Sweden|      Melbourne 1956|     Summer|     1956|1956-11-21 23:00:00|1956-12-08 11:00:00|                NULL|        NULL|      NULL|\n",
      "|   34|               Italy|Cortina d'Ampezzo...|     Winter|     1956|1956-01-26 08:00:00|1956-02-05 20:00:00|               Italy|          IT|        90|\n",
      "|   35|             Finland|       Helsinki 1952|     Summer|     1952|1952-07-19 08:00:00|1952-08-03 08:00:00|             Finland|          FI|       110|\n",
      "|   36|              Norway|           Oslo 1952|     Winter|     1952|1952-02-14 08:00:00|1952-02-25 20:00:00|              Norway|          NO|        18|\n",
      "|   37|       Great Britain|         London 1948|     Summer|     1948|1948-07-29 08:00:00|1948-08-14 20:00:00|       Great Britain|          GB|       131|\n",
      "|   38|         Switzerland|     St. Moritz 1948|     Winter|     1948|1948-01-30 08:00:00|1948-02-08 20:00:00|         Switzerland|          CH|        32|\n",
      "|   39|             Germany|         Berlin 1936|     Summer|     1936|1936-08-01 08:00:00|1936-08-16 20:00:00|             Germany|          DE|        29|\n",
      "|   40|             Germany|Garmisch-Partenki...|     Winter|     1936|1936-02-06 08:00:00|1936-02-16 20:00:00|             Germany|          DE|        29|\n",
      "|   41|       United States|    Los Angeles 1932|     Summer|     1932|1932-07-30 17:00:00|1932-08-14 20:00:00|                NULL|        NULL|      NULL|\n",
      "|   42|       United States|    Lake Placid 1932|     Winter|     1932|1932-02-04 13:00:00|1932-02-15 18:00:00|                NULL|        NULL|      NULL|\n",
      "|   43|         Netherlands|      Amsterdam 1928|     Summer|     1928|1928-05-17 08:00:00|1928-08-12 20:00:00|         Netherlands|          NL|        61|\n",
      "|   44|         Switzerland|     St. Moritz 1928|     Winter|     1928|1928-02-11 08:00:00|1928-02-19 08:00:00|         Switzerland|          CH|        32|\n",
      "|   45|              France|          Paris 1924|     Summer|     1924|1924-05-04 08:00:00|1924-07-27 20:00:00|              France|          FR|        54|\n",
      "|   46|              France|       Chamonix 1924|     Winter|     1924|1924-01-25 08:00:00|1924-02-05 20:00:00|              France|          FR|        54|\n",
      "|   47|             Belgium|        Antwerp 1920|     Summer|     1920|1920-04-20 08:00:00|1920-09-12 20:00:00|             Belgium|          BE|        72|\n",
      "|   48|              Sweden|      Stockholm 1912|     Summer|     1912|1912-05-05 08:00:00|1912-07-27 20:00:00|              Sweden|          SE|         1|\n",
      "|   49|       Great Britain|         London 1908|     Summer|     1908|1908-04-27 08:09:21|1908-10-31 20:18:21|       Great Britain|          GB|       131|\n",
      "|   50|       United States|      St. Louis 1904|     Summer|     1904|1904-07-01 14:09:21|1904-11-24 02:09:21|                NULL|        NULL|      NULL|\n",
      "|   51|              France|          Paris 1900|     Summer|     1900|1900-05-14 09:00:00|1900-10-28 20:00:00|              France|          FR|        54|\n",
      "|   52|              Greece|         Athens 1896|     Summer|     1896|1896-04-06 11:48:00|1896-04-15 11:49:00|              Greece|          GR|        84|\n",
      "+-----+--------------------+--------------------+-----------+---------+-------------------+-------------------+--------------------+------------+----------+\n",
      "\n"
     ]
    }
   ],
   "source": [
    "hosts = pd.read_xml('./data/olympic_hosts.xml')\n",
    "\n",
    "hosts.to_csv('./data/olympic_hosts.csv', index=False)\n",
    "\n",
    "dfhosts = spark.read.csv(\"./data/olympic_hosts.csv\", inferSchema=True, sep=\",\", header=True)\n",
    "\n",
    "dfhosts = dfhosts.drop(\"game_slug\")\n",
    "\n",
    "# convert game_end_date from 2022-02-20 13:00:00 to timestamp\n",
    "\n",
    "dfhosts = dfhosts.withColumn(\"start_date_str\", date_format(\"game_start_date\", \"yyyy-MM-dd HH:mm:ss\")).withColumn(\"end_date_str\", date_format(\"game_end_date\", \"yyyy-MM-dd HH:mm:ss\"))\n",
    "\n",
    "dfhosts = dfhosts.drop(\"game_start_date\").drop(\"game_end_date\")\n",
    "\n",
    "dfhosts = dfhosts.join(dfcountry, dfhosts.game_location == dfcountry.country_name, \"left\")\n",
    "\n",
    "\n",
    "dfhosts.show(100)\n",
    "\n"
   ]
  },
  {
   "cell_type": "code",
   "execution_count": 10,
   "metadata": {},
   "outputs": [
    {
     "name": "stdout",
     "output_type": "stream",
     "text": [
      "+-----+--------------------+-----------+---------+-------------------+-------------------+----------+\n",
      "|index|           game_name|game_season|game_year|     start_date_str|       end_date_str|country_id|\n",
      "+-----+--------------------+-----------+---------+-------------------+-------------------+----------+\n",
      "|    0|        Beijing 2022|     Winter|     2022|2022-02-04 16:00:00|2022-02-20 13:00:00|        19|\n",
      "|    1|          Tokyo 2020|     Summer|     2020|2021-07-23 13:00:00|2021-08-08 16:00:00|       122|\n",
      "|    2|    PyeongChang 2018|     Winter|     2018|2018-02-09 00:00:00|2018-02-25 09:00:00|        20|\n",
      "|    3|            Rio 2016|     Summer|     2016|2016-08-05 14:00:00|2016-08-21 23:00:00|        56|\n",
      "|    4|          Sochi 2014|     Winter|     2014|2014-02-07 05:00:00|2014-02-23 17:00:00|        27|\n",
      "|    5|         London 2012|     Summer|     2012|2012-07-27 09:00:00|2012-08-12 21:00:00|       131|\n",
      "|    6|      Vancouver 2010|     Winter|     2010|2010-02-12 17:00:00|2010-02-28 05:00:00|        81|\n",
      "|    7|        Beijing 2008|     Summer|     2008|2008-08-08 02:00:00|2008-08-24 14:00:00|        19|\n",
      "|    8|          Turin 2006|     Winter|     2006|2006-02-10 08:00:00|2006-02-26 20:00:00|        90|\n",
      "|    9|         Athens 2004|     Summer|     2004|2004-08-13 08:00:00|2004-08-29 20:00:00|        84|\n",
      "|   10| Salt Lake City 2002|     Winter|     2002|2002-02-08 16:00:00|2002-02-24 09:00:00|        71|\n",
      "|   11|         Sydney 2000|     Summer|     2000|2000-09-15 03:00:00|2000-10-01 11:00:00|         7|\n",
      "|   12|         Nagano 1998|     Winter|     1998|1998-02-07 00:00:00|1998-02-22 12:00:00|       122|\n",
      "|   13|        Atlanta 1996|     Summer|     1996|1996-07-19 14:00:00|1996-08-05 23:00:00|        71|\n",
      "|   14|    Lillehammer 1994|     Winter|     1994|1994-02-12 08:00:00|1994-02-27 20:00:00|        18|\n",
      "|   15|      Barcelona 1992|     Summer|     1992|1992-07-25 08:00:00|1992-08-09 20:00:00|       127|\n",
      "|   16|    Albertville 1992|     Winter|     1992|1992-02-08 08:00:00|1992-02-23 20:00:00|        54|\n",
      "|   17|          Seoul 1988|     Summer|     1988|1988-09-17 00:00:00|1988-10-02 11:00:00|        20|\n",
      "|   18|        Calgary 1988|     Winter|     1988|1988-02-13 16:00:00|1988-02-28 04:00:00|        81|\n",
      "|   19|    Los Angeles 1984|     Summer|     1984|1984-07-28 17:00:00|1984-08-12 21:00:00|        71|\n",
      "|   20|       Sarajevo 1984|     Winter|     1984|1984-02-08 08:00:00|1984-02-19 20:00:00|       124|\n",
      "|   21|         Moscow 1980|     Summer|     1980|1980-07-19 07:00:00|1980-08-03 20:00:00|        27|\n",
      "|   22|    Lake Placid 1980|     Winter|     1980|1980-02-13 14:00:00|1980-02-24 02:00:00|        71|\n",
      "|   23|       Montreal 1976|     Summer|     1976|1976-07-17 14:00:00|1976-08-01 00:00:00|        81|\n",
      "|   24|      Innsbruck 1976|     Winter|     1976|1976-02-04 08:00:00|1976-02-15 20:00:00|        94|\n",
      "|   25|         Munich 1972|     Summer|     1972|1972-08-26 08:00:00|1972-09-11 20:00:00|       137|\n",
      "|   26|        Sapporo 1972|     Winter|     1972|1972-02-03 00:00:00|1972-02-13 12:00:00|       122|\n",
      "|   27|    Mexico City 1968|     Summer|     1968|1968-10-12 17:00:00|1968-10-28 05:00:00|        85|\n",
      "|   28|       Grenoble 1968|     Winter|     1968|1968-02-06 08:00:00|1968-02-18 20:00:00|        54|\n",
      "|   29|          Tokyo 1964|     Summer|     1964|1964-10-10 00:00:00|1964-10-24 12:00:00|       122|\n",
      "|   30|      Innsbruck 1964|     Winter|     1964|1964-01-29 08:00:00|1964-02-09 20:00:00|        94|\n",
      "|   31|           Rome 1960|     Summer|     1960|1960-08-25 08:00:00|1960-09-11 20:00:00|        90|\n",
      "|   32|   Squaw Valley 1960|     Winter|     1960|1960-02-18 17:00:00|1960-02-28 05:00:00|        71|\n",
      "|   33|      Melbourne 1956|     Summer|     1956|1956-11-21 23:00:00|1956-12-08 11:00:00|      NULL|\n",
      "|   34|Cortina d'Ampezzo...|     Winter|     1956|1956-01-26 08:00:00|1956-02-05 20:00:00|        90|\n",
      "|   35|       Helsinki 1952|     Summer|     1952|1952-07-19 08:00:00|1952-08-03 08:00:00|       110|\n",
      "|   36|           Oslo 1952|     Winter|     1952|1952-02-14 08:00:00|1952-02-25 20:00:00|        18|\n",
      "|   37|         London 1948|     Summer|     1948|1948-07-29 08:00:00|1948-08-14 20:00:00|       131|\n",
      "|   38|     St. Moritz 1948|     Winter|     1948|1948-01-30 08:00:00|1948-02-08 20:00:00|        32|\n",
      "|   39|         Berlin 1936|     Summer|     1936|1936-08-01 08:00:00|1936-08-16 20:00:00|        29|\n",
      "|   40|Garmisch-Partenki...|     Winter|     1936|1936-02-06 08:00:00|1936-02-16 20:00:00|        29|\n",
      "|   41|    Los Angeles 1932|     Summer|     1932|1932-07-30 17:00:00|1932-08-14 20:00:00|        71|\n",
      "|   42|    Lake Placid 1932|     Winter|     1932|1932-02-04 13:00:00|1932-02-15 18:00:00|        71|\n",
      "|   43|      Amsterdam 1928|     Summer|     1928|1928-05-17 08:00:00|1928-08-12 20:00:00|        61|\n",
      "|   44|     St. Moritz 1928|     Winter|     1928|1928-02-11 08:00:00|1928-02-19 08:00:00|        32|\n",
      "|   45|          Paris 1924|     Summer|     1924|1924-05-04 08:00:00|1924-07-27 20:00:00|        54|\n",
      "|   46|       Chamonix 1924|     Winter|     1924|1924-01-25 08:00:00|1924-02-05 20:00:00|        54|\n",
      "|   47|        Antwerp 1920|     Summer|     1920|1920-04-20 08:00:00|1920-09-12 20:00:00|        72|\n",
      "|   48|      Stockholm 1912|     Summer|     1912|1912-05-05 08:00:00|1912-07-27 20:00:00|         1|\n",
      "|   49|         London 1908|     Summer|     1908|1908-04-27 08:09:21|1908-10-31 20:18:21|       131|\n",
      "|   50|      St. Louis 1904|     Summer|     1904|1904-07-01 14:09:21|1904-11-24 02:09:21|        71|\n",
      "|   51|          Paris 1900|     Summer|     1900|1900-05-14 09:00:00|1900-10-28 20:00:00|        54|\n",
      "|   52|         Athens 1896|     Summer|     1896|1896-04-06 11:48:00|1896-04-15 11:49:00|        84|\n",
      "+-----+--------------------+-----------+---------+-------------------+-------------------+----------+\n",
      "\n"
     ]
    }
   ],
   "source": [
    "# if game_location in dfhosts is China, then country_id = 110\n",
    "\n",
    "dfhosts = dfhosts.withColumn(\"country_id\", when(dfhosts.game_location == \"China\", 19).otherwise(dfhosts.country_id)).withColumn(\"country_name\", when(dfhosts.game_location == \"China\", \"People's Republic of China\").otherwise(dfhosts.country_name))\n",
    "\n",
    "# if game_location in dfhosts is USSR, then country_id = 112\n",
    "\n",
    "dfhosts = dfhosts.withColumn(\"country_id\", when(dfhosts.game_location == \"USSR\", 27).otherwise(dfhosts.country_id)).withColumn(\"country_name\", when(dfhosts.game_location == \"USSR\", \"Russian Federation\").otherwise(dfhosts.country_name))\n",
    "\n",
    "# if game_location in dfhosts is United States , then country_id = 146\n",
    "\n",
    "dfhosts = dfhosts.withColumn(\"country_id\", when(dfhosts.game_location == \"United States\", 71).otherwise(dfhosts.country_id)).withColumn(\"country_name\", when(dfhosts.game_location == \"United States\", \"United States of America\").otherwise(dfhosts.country_name))\n",
    "\n",
    "\n",
    "dfhosts = dfhosts.drop(\"country_name\")\n",
    "dfhosts = dfhosts.drop(\"country_code\")\n",
    "dfhosts = dfhosts.drop(\"game_location\")\n",
    "dfhosts.show(100)"
   ]
  },
  {
   "cell_type": "markdown",
   "metadata": {},
   "source": [
    "## **Création du dataframe des athlètes et de l'id pays associé**"
   ]
  },
  {
   "cell_type": "code",
   "execution_count": 11,
   "metadata": {},
   "outputs": [
    {
     "name": "stdout",
     "output_type": "stream",
     "text": [
      "+-------------------+----------+----------+\n",
      "|  athlete_full_name|country_id|athlete_id|\n",
      "+-------------------+----------+----------+\n",
      "|     Haruka ENOMOTO|       122|         1|\n",
      "|    Hazuki MIYAMOTO|       122|         2|\n",
      "|  Clarissa JOHNSTON|        84|         3|\n",
      "|    Laura STRUGNELL|        84|         4|\n",
      "|     Mussa CHAMAUNE|       115|         5|\n",
      "|       Joaquim LOBO|       115|         6|\n",
      "|        Ronja STURM|        29|         7|\n",
      "|Marie-Louise DRAGER|        29|         8|\n",
      "|         Shixiao XU|        19|         9|\n",
      "|         Mengya SUN|        19|        10|\n",
      "|      Elena VESNINA|        92|        11|\n",
      "|     Aslan KARATSEV|        92|        12|\n",
      "|     Ashleigh BARTY|         7|        13|\n",
      "|      Storm SANDERS|         7|        14|\n",
      "|    Anna SHEVCHENKO|        82|        15|\n",
      "| Valeriya TYULENEVA|        82|        16|\n",
      "|      Matias BUHLER|        32|        17|\n",
      "|   Nathalie BRUGGER|        32|        18|\n",
      "|Ola Vigen HATTESTAD|        18|        19|\n",
      "| Petter NORTHUG JR.|        18|        20|\n",
      "+-------------------+----------+----------+\n",
      "only showing top 20 rows\n",
      "\n"
     ]
    }
   ],
   "source": [
    "# Création des DataFrames \n",
    "df_filtered = pd.DataFrame(filtered_data, columns=[\"athlete_full_name\", \"country_name\"])\n",
    "\n",
    "# Affichage des DataFrames pour vérification\n",
    "df_filtered.head()\n",
    "\n",
    "df_filtered.to_csv('./data/filtered_data.csv', index=False)\n",
    "\n",
    "df_filtered = spark.read.csv(\"./data/filtered_data.csv\", inferSchema=True, sep=\",\", header=True)\n",
    "\n",
    "df_with_country_index = df_filtered.join(dfcountry, on=\"country_name\", how=\"left\")\n",
    "\n",
    "dfathletes = df_with_country_index.drop(\"country_name\").drop(\"country_code\")\n",
    "\n",
    "dfathletes = dfathletes.select(\"*\").withColumn(\"athlete_id\", monotonically_increasing_id() + 1)\n",
    "\n",
    "dfathletes.show()"
   ]
  },
  {
   "cell_type": "markdown",
   "metadata": {},
   "source": [
    "## **Transformation dfmedals pour remplacer les noms d'athlètes et les pays par les id correspondant**"
   ]
  },
  {
   "cell_type": "code",
   "execution_count": 12,
   "metadata": {},
   "outputs": [
    {
     "name": "stdout",
     "output_type": "stream",
     "text": [
      "+----+--------------------+--------------+--------------------+------------+----------+----------------+--------------------+--------------------+--------------------+------------+---------------------+--------------------+----------+----------+\n",
      "| _c0|    discipline_title|     slug_game|         event_title|event_gender|medal_type|participant_type|   participant_title|   athlete_full_name|        country_name|country_code|country_3_letter_code|   athlete_full_name|country_id|athlete_id|\n",
      "+----+--------------------+--------------+--------------------+------------+----------+----------------+--------------------+--------------------+--------------------+------------+---------------------+--------------------+----------+----------+\n",
      "| 466|        Canoe Sprint|    tokyo-2020|Women's Canoe Dou...|       Women|      GOLD|        GameTeam|People's Republic...|          Shixiao XU|People's Republic...|          CN|                  CHN|          Shixiao XU|        19|         9|\n",
      "| 467|        Canoe Sprint|    tokyo-2020|Women's Canoe Dou...|       Women|      GOLD|        GameTeam|People's Republic...|          Mengya SUN|People's Republic...|          CN|                  CHN|          Mengya SUN|        19|        10|\n",
      "|2926|              Tennis|      rio-2016|       doubles women|       Women|      GOLD|        GameTeam|Russian Federatio...|       Elena VESNINA|  Russian Federation|          RU|                  RUS|       Elena VESNINA|        92|        11|\n",
      "| 882|              Tennis|    tokyo-2020|       Mixed Doubles|       Mixed|    SILVER|        GameTeam|  Vesnina / Karatsev|       Elena VESNINA|                 ROC|         ROC|                  ROC|       Elena VESNINA|        92|        11|\n",
      "| 883|              Tennis|    tokyo-2020|       Mixed Doubles|       Mixed|    SILVER|        GameTeam|  Vesnina / Karatsev|      Aslan KARATSEV|                 ROC|         ROC|                  ROC|      Aslan KARATSEV|        92|        12|\n",
      "| 884|              Tennis|    tokyo-2020|       Mixed Doubles|       Mixed|    BRONZE|        GameTeam|       Barty / Peers|      Ashleigh BARTY|           Australia|          AU|                  AUS|      Ashleigh BARTY|         7|        13|\n",
      "|3107|Cross Country Skiing|    sochi-2014|     Sprint 15km men|         Men|      GOLD|         Athlete|                NULL| Ola Vigen HATTESTAD|              Norway|          NO|                  NOR| Ola Vigen HATTESTAD|        18|        19|\n",
      "|4513|Cross Country Skiing|vancouver-2010|     Sprint 15km men|         Men|    BRONZE|         Athlete|                NULL|  Petter NORTHUG JR.|              Norway|          NO|                  NOR|  Petter NORTHUG JR.|        18|        20|\n",
      "|4505|Cross Country Skiing|vancouver-2010|            50km men|         Men|      GOLD|         Athlete|                NULL|  Petter NORTHUG JR.|              Norway|          NO|                  NOR|  Petter NORTHUG JR.|        18|        20|\n",
      "|4497|Cross Country Skiing|vancouver-2010|     Team sprint men|         Men|      GOLD|        GameTeam|         Norway team|  Petter NORTHUG JR.|              Norway|          NO|                  NOR|  Petter NORTHUG JR.|        18|        20|\n",
      "|2275|        Canoe Sprint|      rio-2016|C-1 1000m (canoe ...|         Men|    SILVER|         Athlete|                NULL|Isaquias QUEIROZ ...|              Brazil|          BR|                  BRA|Isaquias QUEIROZ ...|        56|        26|\n",
      "|2268|        Canoe Sprint|      rio-2016|C-2 1000m (canoe ...|         Men|    SILVER|        GameTeam|         Brazil team|Isaquias QUEIROZ ...|              Brazil|          BR|                  BRA|Isaquias QUEIROZ ...|        56|        26|\n",
      "|2252|        Canoe Sprint|      rio-2016|C-1 200m (canoe s...|         Men|    BRONZE|         Athlete|                NULL|Isaquias QUEIROZ ...|              Brazil|          BR|                  BRA|Isaquias QUEIROZ ...|        56|        26|\n",
      "| 480|        Canoe Sprint|    tokyo-2020|Men's Canoe Singl...|         Men|      GOLD|         Athlete|                NULL|Isaquias QUEIROZ ...|              Brazil|          BR|                  BRA|Isaquias QUEIROZ ...|        56|        26|\n",
      "|2686|           Badminton|      rio-2016|         doubles men|         Men|    BRONZE|        GameTeam|  Great Britain team|        Marcus ELLIS|       Great Britain|          GB|                  GBR|        Marcus ELLIS|       131|        27|\n",
      "| 880|              Tennis|    tokyo-2020|       Mixed Doubles|       Mixed|      GOLD|        GameTeam|Pavlyuchenkova / ...|Anastasia PAVLYUC...|                 ROC|         ROC|                  ROC|Anastasia PAVLYUC...|        92|        29|\n",
      "| 881|              Tennis|    tokyo-2020|       Mixed Doubles|       Mixed|      GOLD|        GameTeam|Pavlyuchenkova / ...|       Andrey Rublev|                 ROC|         ROC|                  ROC|       Andrey Rublev|        92|        30|\n",
      "|3443|Synchronized Swim...|   london-2012|          duet women|       Women|      GOLD|        GameTeam|Russian Federatio...|   Natalia ISHCHENKO|  Russian Federation|          RU|                  RUS|   Natalia ISHCHENKO|        27|        35|\n",
      "|2547|Synchronized Swim...|      rio-2016|          duet women|       Women|      GOLD|        GameTeam|Russian Federatio...|   Natalia ISHCHENKO|  Russian Federation|          RU|                  RUS|   Natalia ISHCHENKO|        27|        35|\n",
      "|3444|Synchronized Swim...|   london-2012|          duet women|       Women|      GOLD|        GameTeam|Russian Federatio...|  Svetlana ROMASHINA|  Russian Federation|          RU|                  RUS|  Svetlana ROMASHINA|        27|        36|\n",
      "+----+--------------------+--------------+--------------------+------------+----------+----------------+--------------------+--------------------+--------------------+------------+---------------------+--------------------+----------+----------+\n",
      "only showing top 20 rows\n",
      "\n"
     ]
    }
   ],
   "source": [
    "medals = medals.join(dfathletes, medals.athlete_full_name == dfathletes.athlete_full_name, how='inner')\n",
    "\n",
    "medals.show()"
   ]
  },
  {
   "cell_type": "code",
   "execution_count": 13,
   "metadata": {},
   "outputs": [
    {
     "name": "stdout",
     "output_type": "stream",
     "text": [
      "+----+--------------------+--------------+--------------------+------------+----------+----------------+------------------+----------+\n",
      "| _c0|    discipline_title|     slug_game|         event_title|event_gender|medal_type|participant_type|athlete_country_id|athlete_id|\n",
      "+----+--------------------+--------------+--------------------+------------+----------+----------------+------------------+----------+\n",
      "| 466|        Canoe Sprint|    tokyo-2020|Women's Canoe Dou...|       Women|      GOLD|        GameTeam|                19|         9|\n",
      "| 467|        Canoe Sprint|    tokyo-2020|Women's Canoe Dou...|       Women|      GOLD|        GameTeam|                19|        10|\n",
      "|2926|              Tennis|      rio-2016|       doubles women|       Women|      GOLD|        GameTeam|                92|        11|\n",
      "| 882|              Tennis|    tokyo-2020|       Mixed Doubles|       Mixed|    SILVER|        GameTeam|                92|        11|\n",
      "| 883|              Tennis|    tokyo-2020|       Mixed Doubles|       Mixed|    SILVER|        GameTeam|                92|        12|\n",
      "| 884|              Tennis|    tokyo-2020|       Mixed Doubles|       Mixed|    BRONZE|        GameTeam|                 7|        13|\n",
      "|3107|Cross Country Skiing|    sochi-2014|     Sprint 15km men|         Men|      GOLD|         Athlete|                18|        19|\n",
      "|4513|Cross Country Skiing|vancouver-2010|     Sprint 15km men|         Men|    BRONZE|         Athlete|                18|        20|\n",
      "|4505|Cross Country Skiing|vancouver-2010|            50km men|         Men|      GOLD|         Athlete|                18|        20|\n",
      "|4497|Cross Country Skiing|vancouver-2010|     Team sprint men|         Men|      GOLD|        GameTeam|                18|        20|\n",
      "|2275|        Canoe Sprint|      rio-2016|C-1 1000m (canoe ...|         Men|    SILVER|         Athlete|                56|        26|\n",
      "|2268|        Canoe Sprint|      rio-2016|C-2 1000m (canoe ...|         Men|    SILVER|        GameTeam|                56|        26|\n",
      "|2252|        Canoe Sprint|      rio-2016|C-1 200m (canoe s...|         Men|    BRONZE|         Athlete|                56|        26|\n",
      "| 480|        Canoe Sprint|    tokyo-2020|Men's Canoe Singl...|         Men|      GOLD|         Athlete|                56|        26|\n",
      "|2686|           Badminton|      rio-2016|         doubles men|         Men|    BRONZE|        GameTeam|               131|        27|\n",
      "| 880|              Tennis|    tokyo-2020|       Mixed Doubles|       Mixed|      GOLD|        GameTeam|                92|        29|\n",
      "| 881|              Tennis|    tokyo-2020|       Mixed Doubles|       Mixed|      GOLD|        GameTeam|                92|        30|\n",
      "|3443|Synchronized Swim...|   london-2012|          duet women|       Women|      GOLD|        GameTeam|                27|        35|\n",
      "|2547|Synchronized Swim...|      rio-2016|          duet women|       Women|      GOLD|        GameTeam|                27|        35|\n",
      "|3444|Synchronized Swim...|   london-2012|          duet women|       Women|      GOLD|        GameTeam|                27|        36|\n",
      "+----+--------------------+--------------+--------------------+------------+----------+----------------+------------------+----------+\n",
      "only showing top 20 rows\n",
      "\n"
     ]
    }
   ],
   "source": [
    "# medals = medals.join(dfcountry, medals.country_name == dfcountry.country_name, how='inner')\n",
    "\n",
    "medals = medals.drop(\"athlete_full_name\").drop(\"country_name\").drop(\"country_code\").drop(\"country_3_letter_code\").drop(\"participant_title\")\n",
    "\n",
    "# rename country_id to athlete_country_id\n",
    "\n",
    "medals = medals.withColumnRenamed(\"country_id\", \"athlete_country_id\")\n",
    "\n",
    "medals.show()"
   ]
  },
  {
   "cell_type": "code",
   "execution_count": 14,
   "metadata": {},
   "outputs": [],
   "source": [
    "# dfathletes = dfathletes.drop(\"athlete_id\")\n",
    "# dfcountry = dfcountry.drop(\"country_id\")\n",
    "medals = medals.drop(\"_c0\")"
   ]
  },
  {
   "cell_type": "markdown",
   "metadata": {},
   "source": [
    "## **Conversion des DF en CSV**\n"
   ]
  },
  {
   "cell_type": "code",
   "execution_count": 15,
   "metadata": {},
   "outputs": [],
   "source": [
    "# convert dfathletes to csv\n",
    "\n",
    "dfathletes.toPandas().to_csv('./result/olympic_athletes.csv', index=False)\n",
    "dfcountry.toPandas().to_csv('./result/olympic_country.csv', index=False)\n",
    "medals.toPandas().to_csv('./result/olympic_medals.csv', index=False)\n",
    "dfhosts.toPandas().to_csv('./result/olympic_events.csv', index=False)"
   ]
  },
  {
   "cell_type": "markdown",
   "metadata": {},
   "source": [
    "## **Lecture des CSV et enregistrement dans la bdd**"
   ]
  },
  {
   "cell_type": "code",
   "execution_count": 16,
   "metadata": {},
   "outputs": [
    {
     "name": "stdout",
     "output_type": "stream",
     "text": [
      "Requirement already satisfied: sqlalchemy in c:\\users\\antoi\\appdata\\local\\programs\\python\\python312\\lib\\site-packages (2.0.30)\n",
      "Requirement already satisfied: typing-extensions>=4.6.0 in c:\\users\\antoi\\appdata\\local\\programs\\python\\python312\\lib\\site-packages (from sqlalchemy) (4.12.0)\n",
      "Requirement already satisfied: greenlet!=0.4.17 in c:\\users\\antoi\\appdata\\local\\programs\\python\\python312\\lib\\site-packages (from sqlalchemy) (3.0.3)\n",
      "Note: you may need to restart the kernel to use updated packages.\n"
     ]
    }
   ],
   "source": [
    "%pip install sqlalchemy"
   ]
  },
  {
   "cell_type": "code",
   "execution_count": 17,
   "metadata": {},
   "outputs": [
    {
     "data": {
      "text/plain": [
       "92"
      ]
     },
     "execution_count": 17,
     "metadata": {},
     "output_type": "execute_result"
    }
   ],
   "source": [
    "from urllib.parse import quote_plus\n",
    "\n",
    "import numpy as np\n",
    "import pandas as pd\n",
    "from sqlalchemy import create_engine, event\n",
    "\n",
    "import pyodbc\n",
    "# azure sql connect tion string\n",
    "conn ='Driver={ODBC Driver 18 for SQL Server};Server=tcp:mia10.database.windows.net,1433;Database=mia10_db;Uid=user_writer;Pwd=B@{&2K2V7jsL[Ou;Encrypt=yes;TrustServerCertificate=no;Connection Timeout=30;'\n",
    "quoted = quote_plus(conn)\n",
    "engine=create_engine('mssql+pyodbc:///?odbc_connect={}'.format(quoted))\n",
    "\n",
    "@event.listens_for(engine, 'before_cursor_execute')\n",
    "def receive_before_cursor_execute(conn, cursor, statement, params, context, executemany):\n",
    "    if executemany:\n",
    "        cursor.fast_executemany = True\n",
    "\n",
    "# athletes\n",
    "\n",
    "table_name = 'athletes'\n",
    "\n",
    "df = pd.read_csv('./result/olympic_athletes.csv')\n",
    "df.to_sql(table_name, engine, index=False, if_exists='replace', schema='dbo')\n",
    "\n",
    "# country\n",
    "\n",
    "table_name = 'country'\n",
    "\n",
    "df = pd.read_csv('./result/olympic_country.csv')\n",
    "df.to_sql(table_name, engine, index=False, if_exists='replace', schema='dbo')\n",
    "\n",
    "# hosts\n",
    "\n",
    "table_name = 'events'\n",
    "\n",
    "df = pd.read_csv('./result/olympic_events.csv')\n",
    "df.to_sql(table_name, engine, index=False, if_exists='replace', schema='dbo')\n",
    "\n",
    "# medals\n",
    "\n",
    "table_name = 'medals'\n",
    "\n",
    "df = pd.read_csv('./result/olympic_medals.csv')\n",
    "df.to_sql(table_name, engine, index=False, if_exists='replace', schema='dbo')"
   ]
  }
 ],
 "metadata": {
  "kernelspec": {
   "display_name": "Python 3",
   "language": "python",
   "name": "python3"
  },
  "language_info": {
   "codemirror_mode": {
    "name": "ipython",
    "version": 3
   },
   "file_extension": ".py",
   "mimetype": "text/x-python",
   "name": "python",
   "nbconvert_exporter": "python",
   "pygments_lexer": "ipython3",
   "version": "3.12.0"
  }
 },
 "nbformat": 4,
 "nbformat_minor": 2
}
